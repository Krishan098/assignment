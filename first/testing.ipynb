{
 "cells": [
  {
   "cell_type": "code",
   "execution_count": 6,
   "id": "72229c13",
   "metadata": {},
   "outputs": [
    {
     "name": "stdout",
     "output_type": "stream",
     "text": [
      "Loading transactions from user-wallet-transactions.json\n"
     ]
    }
   ],
   "source": [
    "import pandas as pd\n",
    "import numpy as np\n",
    "import json\n",
    "def _normalize_amount(row):\n",
    "    \"\"\"Normalize token amounts based on common decimal patterns.\"\"\"\n",
    "    amount=row['amount']\n",
    "    symbol=row['assetSymbol']\n",
    "    decimal_map={\n",
    "        'USDC':6,\n",
    "        'USDT':6,\n",
    "        'DAI':18,\n",
    "        'WETH':18,\n",
    "        'WMATIC':18,\n",
    "        'WBTC':8\n",
    "    }\n",
    "    decimals=decimal_map.get(symbol,18)\n",
    "    return amount/(10**decimals)\n",
    "def load_transactions(file_path:str)->pd.DataFrame:\n",
    "    \"\"\"Load data from JSON file\"\"\"\n",
    "    print(f\"Loading transactions from {file_path}\")\n",
    "    try:\n",
    "        with open(file_path,'r') as f:\n",
    "            data=json.load(f)\n",
    "        transactions=[]\n",
    "        for record in data:\n",
    "            tx={\n",
    "                'wallet':record.get('userWallet',''),\n",
    "                'network':record.get('network',''),\n",
    "                'protocol':record.get('protocol',''),\n",
    "                'txHash':record.get('txHash',''),\n",
    "                'timestamp':record.get('timestamp',''),\n",
    "                'blockNumber':record.get('blockNumber',''),\n",
    "                'action':record.get('action',''),\n",
    "            }\n",
    "            action_data=record.get('actionData',{})\n",
    "            tx.update({\n",
    "                'amount':action_data.get('amount','0'),\n",
    "                'assetSymbol':action_data.get('assetSymbol','0'),\n",
    "                'assetPriceUSD':action_data.get('assetPriceUSD','0'),\n",
    "                'poolId':action_data.get('poolId','0'),\n",
    "                'userId':action_data.get('userId','0'),\n",
    "                'type':action_data.get('type',''),\n",
    "            })\n",
    "            if 'createdAt' in record and isinstance(record['createdAt'],dict):\n",
    "                if '$date' in record['createdAt']:\n",
    "                    tx['createdAt']=record['createdAt']['$date']\n",
    "            transactions.append(tx)\n",
    "        df=pd.DataFrame(transactions)\n",
    "        df['timestamp']=pd.to_datetime(df['timestamp'],unit='s',errors='coerce')\n",
    "        df['amount'] = pd.to_numeric(df['amount'], errors='coerce')\n",
    "        df['assetPriceUSD'] = pd.to_numeric(df['assetPriceUSD'], errors='coerce')\n",
    "        df['blockNumber'] = pd.to_numeric(df['blockNumber'], errors='coerce')\n",
    "        df['amountUSD'] = df['amount'] * df['assetPriceUSD']\n",
    "        df['normalizedAmount']=df.apply(_normalize_amount,axis=1)\n",
    "        df['normalizedAmountUSD']=df['normalizedAmount']*df['assetPriceUSD']\n",
    "        df=df[df['wallet'].notna() & (df['wallet']!='')]\n",
    "        df=df[df['timestamp'].notna()]\n",
    "        df=df[df['amount']>0]\n",
    "        #print(df)\n",
    "        #print(df.columns)\n",
    "        #print(df.describe)\n",
    "        return df\n",
    "    except Exception as e:\n",
    "        print(f'error loading transactions:{e}')\n",
    "        return pd.DataFrame()\n",
    "\n",
    "\n",
    "path= 'user-wallet-transactions.json'\n",
    "transaction_df=load_transactions(path)"
   ]
  },
  {
   "cell_type": "code",
   "execution_count": 7,
   "id": "d4be5110",
   "metadata": {},
   "outputs": [
    {
     "data": {
      "text/plain": [
       "3497"
      ]
     },
     "execution_count": 7,
     "metadata": {},
     "output_type": "execute_result"
    }
   ],
   "source": [
    "transaction_df['wallet'].nunique()"
   ]
  },
  {
   "cell_type": "code",
   "execution_count": 3,
   "id": "875950a6",
   "metadata": {},
   "outputs": [],
   "source": [
    "import json\n",
    "with open('user-wallet-transactions.json','r') as f:\n",
    "    data=json.load(f)"
   ]
  },
  {
   "cell_type": "code",
   "execution_count": 4,
   "id": "2ec21332",
   "metadata": {},
   "outputs": [
    {
     "data": {
      "text/plain": [
       "100000"
      ]
     },
     "execution_count": 4,
     "metadata": {},
     "output_type": "execute_result"
    }
   ],
   "source": [
    "len(data)"
   ]
  },
  {
   "cell_type": "code",
   "execution_count": null,
   "id": "39101ebd",
   "metadata": {},
   "outputs": [
    {
     "ename": "TypeError",
     "evalue": "list indices must be integers or slices, not str",
     "output_type": "error",
     "traceback": [
      "\u001b[31m---------------------------------------------------------------------------\u001b[39m",
      "\u001b[31mTypeError\u001b[39m                                 Traceback (most recent call last)",
      "\u001b[36mCell\u001b[39m\u001b[36m \u001b[39m\u001b[32mIn[5]\u001b[39m\u001b[32m, line 1\u001b[39m\n\u001b[32m----> \u001b[39m\u001b[32m1\u001b[39m \u001b[38;5;28mprint\u001b[39m(\u001b[43mdata\u001b[49m\u001b[43m[\u001b[49m\u001b[33;43m'\u001b[39;49m\u001b[33;43mwallet\u001b[39;49m\u001b[33;43m'\u001b[39;49m\u001b[43m]\u001b[49m.nunique())\n",
      "\u001b[31mTypeError\u001b[39m: list indices must be integers or slices, not str"
     ]
    }
   ],
   "source": []
  },
  {
   "cell_type": "code",
   "execution_count": null,
   "id": "71af85f5",
   "metadata": {},
   "outputs": [],
   "source": []
  }
 ],
 "metadata": {
  "kernelspec": {
   "display_name": "assignment",
   "language": "python",
   "name": "python3"
  },
  "language_info": {
   "codemirror_mode": {
    "name": "ipython",
    "version": 3
   },
   "file_extension": ".py",
   "mimetype": "text/x-python",
   "name": "python",
   "nbconvert_exporter": "python",
   "pygments_lexer": "ipython3",
   "version": "3.11.5"
  }
 },
 "nbformat": 4,
 "nbformat_minor": 5
}
